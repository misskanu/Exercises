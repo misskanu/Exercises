{
 "cells": [
  {
   "cell_type": "code",
   "execution_count": 5,
   "metadata": {},
   "outputs": [
    {
     "name": "stdout",
     "output_type": "stream",
     "text": [
      "what is your age?\n",
      "10\n"
     ]
    }
   ],
   "source": [
    "# Type casting - it changes the type of : only want to type cast with things that you could do computation with \n",
    "#input is used to ask questions and  whatever you answer is stored in a variable \n",
    "Age = input('what is your age?\\n')"
   ]
  },
  {
   "cell_type": "code",
   "execution_count": 6,
   "metadata": {
    "scrolled": true
   },
   "outputs": [
    {
     "data": {
      "text/plain": [
       "str"
      ]
     },
     "execution_count": 6,
     "metadata": {},
     "output_type": "execute_result"
    }
   ],
   "source": [
    "type(Age)"
   ]
  },
  {
   "cell_type": "code",
   "execution_count": 7,
   "metadata": {},
   "outputs": [],
   "source": [
    "Age = int(Age)"
   ]
  },
  {
   "cell_type": "code",
   "execution_count": 8,
   "metadata": {},
   "outputs": [
    {
     "data": {
      "text/plain": [
       "int"
      ]
     },
     "execution_count": 8,
     "metadata": {},
     "output_type": "execute_result"
    }
   ],
   "source": [
    "type (Age)"
   ]
  },
  {
   "cell_type": "code",
   "execution_count": 9,
   "metadata": {},
   "outputs": [
    {
     "name": "stdout",
     "output_type": "stream",
     "text": [
      "what's your age?\n",
      "10\n"
     ]
    }
   ],
   "source": [
    "#How to excape string literal - use \\ so it can print exactly what is there\n",
    "# example, saying \"what's\" will bring error so u use \\ to tell the cmputer \n",
    "#to type exactly what you have there\n",
    "Age = input('what\\'s your age?\\n')"
   ]
  },
  {
   "cell_type": "code",
   "execution_count": 11,
   "metadata": {},
   "outputs": [],
   "source": [
    "#change back at anytime - eg change back to string\n",
    "Age = str(Age)"
   ]
  },
  {
   "cell_type": "code",
   "execution_count": 12,
   "metadata": {},
   "outputs": [
    {
     "data": {
      "text/plain": [
       "str"
      ]
     },
     "execution_count": 12,
     "metadata": {},
     "output_type": "execute_result"
    }
   ],
   "source": [
    "type(Age)"
   ]
  },
  {
   "cell_type": "code",
   "execution_count": 13,
   "metadata": {},
   "outputs": [],
   "source": [
    "#we are writing a program that will add two numbers"
   ]
  },
  {
   "cell_type": "code",
   "execution_count": 14,
   "metadata": {},
   "outputs": [
    {
     "name": "stdout",
     "output_type": "stream",
     "text": [
      "enter first number: \n",
      "10\n",
      "enter second number: \n",
      "2\n",
      "The final answer is 12\n"
     ]
    }
   ],
   "source": [
    "first_number = input('enter first number: \\n')\n",
    "second_number = input('enter second number: \\n')\n",
    "first_number = int(first_number)\n",
    "second_number = int(second_number)\n",
    "answer = first_number + second_number\n",
    "result = \"The final answer is {}\".format(answer)\n",
    "print(result)"
   ]
  },
  {
   "cell_type": "code",
   "execution_count": 15,
   "metadata": {},
   "outputs": [
    {
     "name": "stdout",
     "output_type": "stream",
     "text": [
      "what is the f_n?\n",
      "22\n",
      "what is the s_n?\n",
      "53\n",
      "The answer is 1166\n"
     ]
    }
   ],
   "source": [
    "f_n = input('what is the f_n?\\n')\n",
    "s_n = input('what is the s_n?\\n')\n",
    "f_n = int(f_n)\n",
    "s_n = int(s_n)\n",
    "Answer = f_n * s_n\n",
    "Output = 'The answer is {}'.format(Answer)\n",
    "print(Output)\n"
   ]
  },
  {
   "cell_type": "code",
   "execution_count": 16,
   "metadata": {},
   "outputs": [
    {
     "name": "stdout",
     "output_type": "stream",
     "text": [
      "what is the f_n?\n",
      "200\n",
      "what is the s_n?\n",
      "50\n",
      "The answer is 4.0\n"
     ]
    }
   ],
   "source": [
    "f_n = input('what is the f_n?\\n')\n",
    "s_n = input('what is the s_n?\\n')\n",
    "f_n = int(f_n)\n",
    "s_n = int(s_n)\n",
    "Answer = f_n / s_n\n",
    "Output = 'The answer is {}'.format(Answer)\n",
    "print(Output)"
   ]
  },
  {
   "cell_type": "code",
   "execution_count": 17,
   "metadata": {},
   "outputs": [
    {
     "name": "stdout",
     "output_type": "stream",
     "text": [
      "what is the f_n?\n",
      "5\n",
      "what is the s_n?\n",
      "2\n",
      "The answer is 2.5\n"
     ]
    }
   ],
   "source": [
    "f_n = input('what is the f_n?\\n')\n",
    "s_n = input('what is the s_n?\\n')\n",
    "f_n = int(f_n)\n",
    "s_n = int(s_n)\n",
    "Answer = f_n / s_n\n",
    "Output = 'The answer is {}'.format(Answer)\n",
    "print(Output)"
   ]
  },
  {
   "cell_type": "code",
   "execution_count": 18,
   "metadata": {},
   "outputs": [
    {
     "name": "stdout",
     "output_type": "stream",
     "text": [
      "what is the f_n?\n",
      "5\n",
      "what is the s_n?\n",
      "2\n",
      "The answer is 2.50\n"
     ]
    }
   ],
   "source": [
    "#Decimal Places\n",
    "#use {}:.2f} to tell the program to place output to 2d.p\n",
    "\n",
    "f_n = input('what is the f_n?\\n')\n",
    "s_n = input('what is the s_n?\\n')\n",
    "f_n = int(f_n)\n",
    "s_n = int(s_n)\n",
    "Answer = f_n / s_n\n",
    "Output = 'The answer is {:.2f}'.format(Answer)\n",
    "print(Output)"
   ]
  },
  {
   "cell_type": "code",
   "execution_count": 20,
   "metadata": {},
   "outputs": [
    {
     "data": {
      "text/plain": [
       "'Function defination - u need 3 things\\n 1)  it starts with \"def\"\\n 2) dont start with numner or use space\\n 3) put colomn inform of function name\\n 4) block - the indented part do it by clicking the tab botton\\n '"
      ]
     },
     "execution_count": 20,
     "metadata": {},
     "output_type": "execute_result"
    }
   ],
   "source": [
    "#REUSING PROGRAM\n",
    "#FUNCTION DEFINATATION (def)- to store all programs - you can recall at anytime\n",
    "# every function need to have a return\n",
    "'''Function defination - u need 3 things\n",
    " 1)  it starts with \"def\"\n",
    " 2) Add function name() - dont start with numner or use space\n",
    " 3) put colomn inform of function name\n",
    " 4) block - the indented part do it by clicking the tab botton\n",
    " '''"
   ]
  },
  {
   "cell_type": "code",
   "execution_count": 24,
   "metadata": {},
   "outputs": [],
   "source": [
    "#create a funtion\n",
    "def calc_Age():\n",
    "    first_number = input('enter first number: \\n')\n",
    "    second_number = input('enter second number: \\n')\n",
    "    first_number = int(first_number)\n",
    "    second_number = int(second_number)\n",
    "    answer = first_number + second_number\n",
    "    result = \"The final answer is {:.2f}\".format(answer)\n",
    "    print(result)\n"
   ]
  },
  {
   "cell_type": "code",
   "execution_count": 25,
   "metadata": {},
   "outputs": [
    {
     "name": "stdout",
     "output_type": "stream",
     "text": [
      "enter first number: \n",
      "15\n",
      "enter second number: \n",
      "3\n",
      "The final answer is 18.00\n"
     ]
    }
   ],
   "source": [
    "#recall a function \n",
    "calc_Age()"
   ]
  },
  {
   "cell_type": "code",
   "execution_count": 26,
   "metadata": {},
   "outputs": [],
   "source": [
    "def add(num1,num2):\n",
    "    return num1 +num2"
   ]
  },
  {
   "cell_type": "code",
   "execution_count": 27,
   "metadata": {},
   "outputs": [
    {
     "data": {
      "text/plain": [
       "7"
      ]
     },
     "execution_count": 27,
     "metadata": {},
     "output_type": "execute_result"
    }
   ],
   "source": [
    "add(3,4)"
   ]
  },
  {
   "cell_type": "code",
   "execution_count": 31,
   "metadata": {},
   "outputs": [],
   "source": [
    "def multiply(num1,num2):\n",
    "    return num1*num2"
   ]
  },
  {
   "cell_type": "code",
   "execution_count": 32,
   "metadata": {},
   "outputs": [
    {
     "data": {
      "text/plain": [
       "12"
      ]
     },
     "execution_count": 32,
     "metadata": {},
     "output_type": "execute_result"
    }
   ],
   "source": [
    "multiply(3,4)"
   ]
  },
  {
   "cell_type": "code",
   "execution_count": 33,
   "metadata": {},
   "outputs": [],
   "source": [
    "def mod(num1,num2):\n",
    "    return num1%num2"
   ]
  },
  {
   "cell_type": "code",
   "execution_count": 34,
   "metadata": {},
   "outputs": [
    {
     "data": {
      "text/plain": [
       "1"
      ]
     },
     "execution_count": 34,
     "metadata": {},
     "output_type": "execute_result"
    }
   ],
   "source": [
    "mod(5,2)"
   ]
  },
  {
   "cell_type": "code",
   "execution_count": 36,
   "metadata": {},
   "outputs": [],
   "source": [
    "def sub(num1,num2):\n",
    "    return num1 - num2"
   ]
  },
  {
   "cell_type": "code",
   "execution_count": 37,
   "metadata": {},
   "outputs": [
    {
     "data": {
      "text/plain": [
       "2"
      ]
     },
     "execution_count": 37,
     "metadata": {},
     "output_type": "execute_result"
    }
   ],
   "source": [
    "sub(5,3)"
   ]
  },
  {
   "cell_type": "code",
   "execution_count": 39,
   "metadata": {},
   "outputs": [],
   "source": [
    "def calculators():\n",
    "    num1= input('enter first num?\\n')\n",
    "    num2= input('enter second num?\\n')\n",
    "    num1 = int(num1)\n",
    "    num2 = int(num2)\n",
    "    operator = input('enter * for multiplication, / for division, % for reminder')\n",
    "    if operator == '*':\n",
    "        return multiply (num1,num2)\n",
    "    elif operator == '-':\n",
    "        return sub(num1,num2)\n",
    "print()"
   ]
  },
  {
   "cell_type": "code",
   "execution_count": 40,
   "metadata": {},
   "outputs": [
    {
     "name": "stdout",
     "output_type": "stream",
     "text": [
      "enter first num?\n",
      "8\n",
      "enter second num?\n",
      "5\n",
      "enter * for multiplication, / for division, % for reminder*\n"
     ]
    },
    {
     "data": {
      "text/plain": [
       "40"
      ]
     },
     "execution_count": 40,
     "metadata": {},
     "output_type": "execute_result"
    }
   ],
   "source": [
    "calculators()"
   ]
  },
  {
   "cell_type": "code",
   "execution_count": 42,
   "metadata": {},
   "outputs": [
    {
     "name": "stdout",
     "output_type": "stream",
     "text": [
      "enter first num?\n",
      "8\n",
      "enter second num?\n",
      "5\n",
      "enter * for multiplication, / for division, % for reminder*\n"
     ]
    },
    {
     "data": {
      "text/plain": [
       "40"
      ]
     },
     "execution_count": 42,
     "metadata": {},
     "output_type": "execute_result"
    }
   ],
   "source": [
    "calculators()"
   ]
  },
  {
   "cell_type": "code",
   "execution_count": null,
   "metadata": {},
   "outputs": [],
   "source": []
  }
 ],
 "metadata": {
  "kernelspec": {
   "display_name": "Python 3",
   "language": "python",
   "name": "python3"
  },
  "language_info": {
   "codemirror_mode": {
    "name": "ipython",
    "version": 3
   },
   "file_extension": ".py",
   "mimetype": "text/x-python",
   "name": "python",
   "nbconvert_exporter": "python",
   "pygments_lexer": "ipython3",
   "version": "3.8.3"
  }
 },
 "nbformat": 4,
 "nbformat_minor": 4
}
